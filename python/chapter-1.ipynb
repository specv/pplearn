{
 "cells": [
  {
   "cell_type": "markdown",
   "id": "ab849183-4108-46de-88ee-380ddb14116f",
   "metadata": {},
   "source": [
    "# 加载数据"
   ]
  },
  {
   "cell_type": "code",
   "execution_count": 1,
   "id": "aad61b2d-44ab-4020-897e-c58dae0b3f81",
   "metadata": {},
   "outputs": [],
   "source": [
    "import io\n",
    "import numpy as np"
   ]
  },
  {
   "cell_type": "code",
   "execution_count": 2,
   "id": "686e9768-dcb3-4f16-ac15-2d7f98d99e7a",
   "metadata": {},
   "outputs": [
    {
     "data": {
      "text/plain": [
       "(array([13.,  2., 14., 23., 13.,  1., 18., 10., 26.,  3.,  3., 21.,  7.,\n",
       "        22.,  2., 27.,  6., 10., 18., 15.,  9., 26.,  8., 15., 10., 21.,\n",
       "         5.,  6., 13., 13.]),\n",
       " array([33., 16., 32., 51., 27., 16., 34., 17., 29., 15., 15., 32., 22.,\n",
       "        37., 13., 44., 16., 21., 37., 30., 26., 34., 23., 39., 27., 37.,\n",
       "        17., 18., 25., 23.]))"
      ]
     },
     "execution_count": 2,
     "metadata": {},
     "output_type": "execute_result"
    }
   ],
   "source": [
    "f = io.StringIO(\"\"\"\n",
    "Reservations  Pizzas\n",
    "13            33\n",
    "2             16\n",
    "14            32\n",
    "23            51\n",
    "13            27\n",
    "1             16\n",
    "18            34\n",
    "10            17\n",
    "26            29\n",
    "3             15\n",
    "3             15\n",
    "21            32\n",
    "7             22\n",
    "22            37\n",
    "2             13\n",
    "27            44\n",
    "6             16\n",
    "10            21\n",
    "18            37\n",
    "15            30\n",
    "9             26\n",
    "26            34\n",
    "8             23\n",
    "15            39\n",
    "10            27\n",
    "21            37\n",
    "5             17\n",
    "6             18\n",
    "13            25\n",
    "13            23\n",
    "\"\"\".strip())\n",
    "\n",
    "X, Y = np.loadtxt(f, skiprows=1, unpack=True)\n",
    "X, Y"
   ]
  },
  {
   "cell_type": "code",
   "execution_count": 3,
   "id": "387c62ef-1678-4b7b-91a3-550a3075851f",
   "metadata": {},
   "outputs": [
    {
     "data": {
      "text/plain": [
       "array([13.,  2., 14., 23., 13.])"
      ]
     },
     "execution_count": 3,
     "metadata": {},
     "output_type": "execute_result"
    }
   ],
   "source": [
    "X[0:5]"
   ]
  },
  {
   "cell_type": "markdown",
   "id": "8a79b979-8b91-40e0-8143-91f3bcb62eea",
   "metadata": {},
   "source": [
    "# 绘图"
   ]
  },
  {
   "cell_type": "markdown",
   "id": "c0f22fe3-4f95-461d-aa7a-dffa31ab8bfc",
   "metadata": {},
   "source": [
    "### Matplotlib"
   ]
  },
  {
   "cell_type": "code",
   "execution_count": 4,
   "id": "52f69131-f5ae-4714-b864-77b34aeb6d8d",
   "metadata": {},
   "outputs": [
    {
     "data": {
      "text/plain": [
       "[<matplotlib.lines.Line2D at 0x11e769d90>]"
      ]
     },
     "execution_count": 4,
     "metadata": {},
     "output_type": "execute_result"
    },
    {
     "data": {
      "image/png": "[encoded data removed]",
      "text/plain": [
       "<Figure size 432x288 with 1 Axes>"
      ]
     },
     "metadata": {
      "needs_background": "light"
     },
     "output_type": "display_data"
    }
   ],
   "source": [
    "import matplotlib.pyplot as plt\n",
    "\n",
    "#plt.axis([0, 50, 0, 50])\n",
    "#plt.xticks(fontsize=15)\n",
    "#plt.yticks(fontsize=15)\n",
    "#plt.xlabel(\"Reservations\", fontsize=30)\n",
    "#plt.ylabel(\"Pizzas\", fontsize=30)\n",
    "plt.plot(X, Y, \"bo\")\n",
    "# jupyter 中不必须(导致会打印 plot 的返回值)\n",
    "# ipython 中则要求，弹出一个 gui 窗口展示图表\n",
    "#plt.show()                                 "
   ]
  },
  {
   "cell_type": "markdown",
   "id": "cac137b3-9bef-4fc6-9134-8f9b0f5990ac",
   "metadata": {},
   "source": [
    "### 使用 seaborn 美化图表"
   ]
  },
  {
   "cell_type": "code",
   "execution_count": 5,
   "id": "a46ebfd9-ce99-415b-b5ce-ec55112e4988",
   "metadata": {},
   "outputs": [
    {
     "data": {
      "text/plain": [
       "[<matplotlib.lines.Line2D at 0x123ef8650>]"
      ]
     },
     "execution_count": 5,
     "metadata": {},
     "output_type": "execute_result"
    },
    {
     "data": {
      "image/png": "[encoded data removed]",
      "text/plain": [
       "<Figure size 432x288 with 1 Axes>"
      ]
     },
     "metadata": {},
     "output_type": "display_data"
    }
   ],
   "source": [
    "import matplotlib.pyplot as plt\n",
    "import seaborn as sns\n",
    "\n",
    "sns.set()\n",
    "plt.plot(X, Y, \"bo\")"
   ]
  },
  {
   "cell_type": "code",
   "execution_count": null,
   "id": "d1508ada-0d8b-4241-8f71-3a67a105b3c6",
   "metadata": {},
   "outputs": [],
   "source": []
  }
 ],
 "metadata": {
  "kernelspec": {
   "display_name": "Programming Machine Learning",
   "language": "python",
   "name": "pplearn"
  },
  "language_info": {
   "codemirror_mode": {
    "name": "ipython",
    "version": 3
   },
   "file_extension": ".py",
   "mimetype": "text/x-python",
   "name": "python",
   "nbconvert_exporter": "python",
   "pygments_lexer": "ipython3",
   "version": "3.7.11"
  }
 },
 "nbformat": 4,
 "nbformat_minor": 5
}
